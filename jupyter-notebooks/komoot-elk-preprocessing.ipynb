{
 "cells": [
  {
   "cell_type": "code",
   "execution_count": 1,
   "metadata": {
    "collapsed": true
   },
   "outputs": [],
   "source": [
    "import json\n",
    "import pandas as pd\n",
    "from pandas import DataFrame, Series\n",
    "from elasticsearch import Elasticsearch"
   ]
  },
  {
   "cell_type": "code",
   "execution_count": 2,
   "metadata": {},
   "outputs": [
    {
     "data": {
      "text/plain": [
       "{'cluster_name': 'docker-cluster',\n",
       " 'cluster_uuid': 'Dvit14MhRgiEoTxfIkuzYA',\n",
       " 'name': 'osb6xs4',\n",
       " 'tagline': 'You Know, for Search',\n",
       " 'version': {'build_date': '2017-04-28T17:43:27.229Z',\n",
       "  'build_hash': '780f8c4',\n",
       "  'build_snapshot': False,\n",
       "  'lucene_version': '6.5.0',\n",
       "  'number': '5.4.0'}}"
      ]
     },
     "execution_count": 2,
     "metadata": {},
     "output_type": "execute_result"
    }
   ],
   "source": [
    "hosts = ['localhost'] # on MacOS this could be something else, e.g. ['192.168.99.100']\n",
    "username = 'elastic'\n",
    "password = 'changeme'\n",
    "es = Elasticsearch(hosts=hosts, http_auth=\"{}:{}\".format(username, password))\n",
    "es.info()"
   ]
  },
  {
   "cell_type": "code",
   "execution_count": 6,
   "metadata": {},
   "outputs": [
    {
     "name": "stdout",
     "output_type": "stream",
     "text": [
      "{\"_embedded\":{\"tours\":[{\"status\":\"private\",\"type\":\"tour_recorded\",\"date\":\"2017-05-30T17:44:39.000+02\r\n"
     ]
    }
   ],
   "source": [
    "!head data/komoot.json -n 1 | cut -c1-100"
   ]
  },
  {
   "cell_type": "code",
   "execution_count": 8,
   "metadata": {},
   "outputs": [
    {
     "data": {
      "text/plain": [
       "{'acknowledged': True}"
      ]
     },
     "execution_count": 8,
     "metadata": {},
     "output_type": "execute_result"
    }
   ],
   "source": [
    "# If the index has been created before it can be removed by this line\n",
    "# es.indices.delete(index='komoot')"
   ]
  },
  {
   "cell_type": "code",
   "execution_count": 9,
   "metadata": {},
   "outputs": [
    {
     "data": {
      "text/plain": [
       "{'acknowledged': True, 'shards_acknowledged': True}"
      ]
     },
     "execution_count": 9,
     "metadata": {},
     "output_type": "execute_result"
    }
   ],
   "source": [
    "mapping = '''\n",
    "{\n",
    "  \"mappings\": {\n",
    "    \"tour\": {\n",
    "      \"properties\": {\n",
    "        \"start_point\": {\n",
    "          \"type\": \"geo_point\"\n",
    "        }\n",
    "      }\n",
    "    }\n",
    "  }\n",
    "}'''\n",
    "es.indices.create(index='komoot', ignore=400, body=mapping)"
   ]
  },
  {
   "cell_type": "code",
   "execution_count": 12,
   "metadata": {
    "collapsed": true
   },
   "outputs": [],
   "source": [
    "# Read data into python dictionary\n",
    "# You can use `data/komoot-sample-data.json` in case you have no other data available.\n",
    "with open('data/komoot.json') as data_file:    \n",
    "    data = json.load(data_file)"
   ]
  },
  {
   "cell_type": "code",
   "execution_count": 13,
   "metadata": {},
   "outputs": [
    {
     "data": {
      "text/html": [
       "<div>\n",
       "<style>\n",
       "    .dataframe thead tr:only-child th {\n",
       "        text-align: right;\n",
       "    }\n",
       "\n",
       "    .dataframe thead th {\n",
       "        text-align: left;\n",
       "    }\n",
       "\n",
       "    .dataframe tbody tr th {\n",
       "        vertical-align: top;\n",
       "    }\n",
       "</style>\n",
       "<table border=\"1\" class=\"dataframe\">\n",
       "  <thead>\n",
       "    <tr style=\"text-align: right;\">\n",
       "      <th></th>\n",
       "      <th>_embedded</th>\n",
       "      <th>_links</th>\n",
       "      <th>changed_at</th>\n",
       "      <th>constitution</th>\n",
       "      <th>date</th>\n",
       "      <th>difficulty</th>\n",
       "      <th>distance</th>\n",
       "      <th>duration</th>\n",
       "      <th>elevation_down</th>\n",
       "      <th>elevation_up</th>\n",
       "      <th>...</th>\n",
       "      <th>map_image_preview</th>\n",
       "      <th>name</th>\n",
       "      <th>path</th>\n",
       "      <th>query</th>\n",
       "      <th>sport</th>\n",
       "      <th>start_point</th>\n",
       "      <th>status</th>\n",
       "      <th>summary</th>\n",
       "      <th>time_in_motion</th>\n",
       "      <th>type</th>\n",
       "    </tr>\n",
       "  </thead>\n",
       "  <tbody>\n",
       "    <tr>\n",
       "      <th>0</th>\n",
       "      <td>{'creator': {'display_name': 'Fabian Müller', ...</td>\n",
       "      <td>{'creator': {'href': 'http://api.komoot.de/v00...</td>\n",
       "      <td>2017-05-30T18:06:11.000Z</td>\n",
       "      <td>NaN</td>\n",
       "      <td>2017-05-30T17:44:39.000+02:00</td>\n",
       "      <td>NaN</td>\n",
       "      <td>18743.235558</td>\n",
       "      <td>2923</td>\n",
       "      <td>265.501410</td>\n",
       "      <td>272.189527</td>\n",
       "      <td>...</td>\n",
       "      <td>{'src': 'https://photos.komoot.de/www/maps/173...</td>\n",
       "      <td>Die letzten Sonnenstrahlen vor dem Regen genießen</td>\n",
       "      <td>NaN</td>\n",
       "      <td>NaN</td>\n",
       "      <td>touringbicycle</td>\n",
       "      <td>[8.852355, 48.797043]</td>\n",
       "      <td>private</td>\n",
       "      <td>NaN</td>\n",
       "      <td>2793.0</td>\n",
       "      <td>tour_recorded</td>\n",
       "    </tr>\n",
       "    <tr>\n",
       "      <th>1</th>\n",
       "      <td>{'creator': {'display_name': 'Fabian Müller', ...</td>\n",
       "      <td>{'creator': {'href': 'http://api.komoot.de/v00...</td>\n",
       "      <td>2017-05-27T15:45:02.000Z</td>\n",
       "      <td>NaN</td>\n",
       "      <td>2017-05-27T16:49:11.000+02:00</td>\n",
       "      <td>NaN</td>\n",
       "      <td>19751.410759</td>\n",
       "      <td>2952</td>\n",
       "      <td>252.190878</td>\n",
       "      <td>214.774036</td>\n",
       "      <td>...</td>\n",
       "      <td>{'src': 'https://photos.komoot.de/www/maps/171...</td>\n",
       "      <td>Sommer, Sonne, Sonnenschein</td>\n",
       "      <td>NaN</td>\n",
       "      <td>NaN</td>\n",
       "      <td>touringbicycle</td>\n",
       "      <td>[8.859056, 48.8203]</td>\n",
       "      <td>public</td>\n",
       "      <td>NaN</td>\n",
       "      <td>2867.0</td>\n",
       "      <td>tour_recorded</td>\n",
       "    </tr>\n",
       "    <tr>\n",
       "      <th>2</th>\n",
       "      <td>{'creator': {'display_name': 'Fabian Müller', ...</td>\n",
       "      <td>{'creator': {'href': 'http://api.komoot.de/v00...</td>\n",
       "      <td>2017-05-26T19:02:26.000Z</td>\n",
       "      <td>NaN</td>\n",
       "      <td>2017-05-26T12:31:37.000+02:00</td>\n",
       "      <td>NaN</td>\n",
       "      <td>59379.904806</td>\n",
       "      <td>16155</td>\n",
       "      <td>423.229605</td>\n",
       "      <td>413.177929</td>\n",
       "      <td>...</td>\n",
       "      <td>{'src': 'https://photos.komoot.de/www/maps/171...</td>\n",
       "      <td>Am Lech entlang</td>\n",
       "      <td>NaN</td>\n",
       "      <td>NaN</td>\n",
       "      <td>mtb</td>\n",
       "      <td>[10.891965, 48.3165]</td>\n",
       "      <td>public</td>\n",
       "      <td>NaN</td>\n",
       "      <td>12277.0</td>\n",
       "      <td>tour_recorded</td>\n",
       "    </tr>\n",
       "    <tr>\n",
       "      <th>3</th>\n",
       "      <td>{'creator': {'display_name': 'Fabian Müller', ...</td>\n",
       "      <td>{'creator': {'href': 'http://api.komoot.de/v00...</td>\n",
       "      <td>2017-05-26T20:10:03.000Z</td>\n",
       "      <td>NaN</td>\n",
       "      <td>2017-05-25T11:53:12.000+02:00</td>\n",
       "      <td>NaN</td>\n",
       "      <td>89096.735223</td>\n",
       "      <td>23138</td>\n",
       "      <td>623.187553</td>\n",
       "      <td>613.072361</td>\n",
       "      <td>...</td>\n",
       "      <td>{'src': 'https://photos.komoot.de/www/maps/170...</td>\n",
       "      <td>Sunshine Augsburg</td>\n",
       "      <td>NaN</td>\n",
       "      <td>NaN</td>\n",
       "      <td>touringbicycle</td>\n",
       "      <td>[10.8807535, 48.31936]</td>\n",
       "      <td>public</td>\n",
       "      <td>NaN</td>\n",
       "      <td>15843.0</td>\n",
       "      <td>tour_recorded</td>\n",
       "    </tr>\n",
       "    <tr>\n",
       "      <th>4</th>\n",
       "      <td>{'creator': {'display_name': 'Fabian Müller', ...</td>\n",
       "      <td>{'creator': {'href': 'http://api.komoot.de/v00...</td>\n",
       "      <td>2017-05-23T13:49:48.000Z</td>\n",
       "      <td>NaN</td>\n",
       "      <td>2017-05-23T14:10:04.000+02:00</td>\n",
       "      <td>NaN</td>\n",
       "      <td>31262.654622</td>\n",
       "      <td>5753</td>\n",
       "      <td>368.245151</td>\n",
       "      <td>375.785043</td>\n",
       "      <td>...</td>\n",
       "      <td>{'src': 'https://photos.komoot.de/www/maps/169...</td>\n",
       "      <td>Tour 23.05.2017 15:46</td>\n",
       "      <td>NaN</td>\n",
       "      <td>NaN</td>\n",
       "      <td>touringbicycle</td>\n",
       "      <td>[8.857647, 48.802353]</td>\n",
       "      <td>public</td>\n",
       "      <td>NaN</td>\n",
       "      <td>5393.0</td>\n",
       "      <td>tour_recorded</td>\n",
       "    </tr>\n",
       "  </tbody>\n",
       "</table>\n",
       "<p>5 rows × 24 columns</p>\n",
       "</div>"
      ],
      "text/plain": [
       "                                           _embedded  \\\n",
       "0  {'creator': {'display_name': 'Fabian Müller', ...   \n",
       "1  {'creator': {'display_name': 'Fabian Müller', ...   \n",
       "2  {'creator': {'display_name': 'Fabian Müller', ...   \n",
       "3  {'creator': {'display_name': 'Fabian Müller', ...   \n",
       "4  {'creator': {'display_name': 'Fabian Müller', ...   \n",
       "\n",
       "                                              _links  \\\n",
       "0  {'creator': {'href': 'http://api.komoot.de/v00...   \n",
       "1  {'creator': {'href': 'http://api.komoot.de/v00...   \n",
       "2  {'creator': {'href': 'http://api.komoot.de/v00...   \n",
       "3  {'creator': {'href': 'http://api.komoot.de/v00...   \n",
       "4  {'creator': {'href': 'http://api.komoot.de/v00...   \n",
       "\n",
       "                 changed_at  constitution                           date  \\\n",
       "0  2017-05-30T18:06:11.000Z           NaN  2017-05-30T17:44:39.000+02:00   \n",
       "1  2017-05-27T15:45:02.000Z           NaN  2017-05-27T16:49:11.000+02:00   \n",
       "2  2017-05-26T19:02:26.000Z           NaN  2017-05-26T12:31:37.000+02:00   \n",
       "3  2017-05-26T20:10:03.000Z           NaN  2017-05-25T11:53:12.000+02:00   \n",
       "4  2017-05-23T13:49:48.000Z           NaN  2017-05-23T14:10:04.000+02:00   \n",
       "\n",
       "  difficulty      distance  duration  elevation_down  elevation_up  \\\n",
       "0        NaN  18743.235558      2923      265.501410    272.189527   \n",
       "1        NaN  19751.410759      2952      252.190878    214.774036   \n",
       "2        NaN  59379.904806     16155      423.229605    413.177929   \n",
       "3        NaN  89096.735223     23138      623.187553    613.072361   \n",
       "4        NaN  31262.654622      5753      368.245151    375.785043   \n",
       "\n",
       "       ...                                        map_image_preview  \\\n",
       "0      ...        {'src': 'https://photos.komoot.de/www/maps/173...   \n",
       "1      ...        {'src': 'https://photos.komoot.de/www/maps/171...   \n",
       "2      ...        {'src': 'https://photos.komoot.de/www/maps/171...   \n",
       "3      ...        {'src': 'https://photos.komoot.de/www/maps/170...   \n",
       "4      ...        {'src': 'https://photos.komoot.de/www/maps/169...   \n",
       "\n",
       "                                                name  path query  \\\n",
       "0  Die letzten Sonnenstrahlen vor dem Regen genießen   NaN   NaN   \n",
       "1                        Sommer, Sonne, Sonnenschein   NaN   NaN   \n",
       "2                                    Am Lech entlang   NaN   NaN   \n",
       "3                                  Sunshine Augsburg   NaN   NaN   \n",
       "4                              Tour 23.05.2017 15:46   NaN   NaN   \n",
       "\n",
       "            sport             start_point   status summary time_in_motion  \\\n",
       "0  touringbicycle   [8.852355, 48.797043]  private     NaN         2793.0   \n",
       "1  touringbicycle     [8.859056, 48.8203]   public     NaN         2867.0   \n",
       "2             mtb    [10.891965, 48.3165]   public     NaN        12277.0   \n",
       "3  touringbicycle  [10.8807535, 48.31936]   public     NaN        15843.0   \n",
       "4  touringbicycle   [8.857647, 48.802353]   public     NaN         5393.0   \n",
       "\n",
       "            type  \n",
       "0  tour_recorded  \n",
       "1  tour_recorded  \n",
       "2  tour_recorded  \n",
       "3  tour_recorded  \n",
       "4  tour_recorded  \n",
       "\n",
       "[5 rows x 24 columns]"
      ]
     },
     "execution_count": 13,
     "metadata": {},
     "output_type": "execute_result"
    }
   ],
   "source": [
    "df = DataFrame(data['_embedded']['tours'])\n",
    "df['start_point'] = df['start_point']\\\n",
    "    .map(lambda item: [item['lng'], item['lat']])\n",
    "df.head()"
   ]
  },
  {
   "cell_type": "code",
   "execution_count": null,
   "metadata": {
    "collapsed": true
   },
   "outputs": [],
   "source": [
    "for i, row in df.iterrows():\n",
    "    res = es.index(index='komoot', doc_type='tour', id=row['id'], body=row.to_json())\n",
    "    print(row['id'], res['result'])"
   ]
  }
 ],
 "metadata": {
  "kernelspec": {
   "display_name": "Python 3",
   "language": "python",
   "name": "python3"
  },
  "language_info": {
   "codemirror_mode": {
    "name": "ipython",
    "version": 3
   },
   "file_extension": ".py",
   "mimetype": "text/x-python",
   "name": "python",
   "nbconvert_exporter": "python",
   "pygments_lexer": "ipython3",
   "version": "3.4.6"
  }
 },
 "nbformat": 4,
 "nbformat_minor": 2
}
